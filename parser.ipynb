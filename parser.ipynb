{
 "cells": [
  {
   "cell_type": "code",
   "execution_count": 2,
   "metadata": {},
   "outputs": [
    {
     "data": {
      "text/plain": [
       "([], [])"
      ]
     },
     "execution_count": 2,
     "metadata": {},
     "output_type": "execute_result"
    }
   ],
   "source": [
    "from pathlib import Path\n",
    "from typing import Literal\n",
    "\n",
    "\n",
    "def parser(file_path: str) -> tuple[list[str|dict[str, list[dict[str, list[str]]]]], list[str]]|Exception:\n",
    "    file = Path(file_path)\n",
    "    if not file.exists():\n",
    "        return OSError(f\"File does not exist: {file_path}\")\n",
    "    context: str = file.read_text(\"utf-8\", errors=\"ignore\")\n",
    "    return parser1(context)\n",
    "\n",
    "def parser1(context: str) -> tuple[list[str|dict[str, list[dict[str, list[str]]]]], list[str]]|Exception:\n",
    "    \n",
    "    state:Literal[\"Unknown\",\"maybe_S_key\", \"prefix_dot\", \"S_key\", \"S_value\", \"maybe_S_key_or_value\", \"S_value_with_quote\", \"Note\"] = \"Unknown\"\n",
    "    data:list[str|dict[str, list[dict[str, list[str]]]]] = []\n",
    "    data_raw_string:list[str] = []\n",
    "    current_field:dict[str, list[dict[str, list[str]]]] = {}\n",
    "    current_note:str = \"\"\n",
    "    current_p_key: str = \"\"\n",
    "    current_p_value: dict[str, list[str | bool | int | float]] = {}\n",
    "    current_s_key: str = \"\"\n",
    "    current_s_value: list[str | bool | int | float] = []\n",
    "    temp_string:str = \"\"\n",
    "    raw_string:str = \"\"\n",
    "\n",
    "    for char in context:\n",
    "        raw_string += char\n",
    "        match (char,state):\n",
    "            case (\":\",\"Unknown\"):\n",
    "                current_p_key = temp_string.split(\"\\n\")[-1]\n",
    "                temp_string = \"\"\n",
    "                state = \"maybe_S_key\"\n",
    "            case (\"/\",\"Unknown\"):\n",
    "                if temp_string[-2:] == \"//\":\n",
    "                    temp_string = \"\"\n",
    "                    state = \"Note\"\n",
    "            case (\".\",\"Unknown\"):\n",
    "                temp_string = \"\"\n",
    "                state = \"prefix_dot\"\n",
    "\n",
    "            case (\"\\n\",\"Note\"):\n",
    "                current_note = temp_string\n",
    "                data.append(current_note)\n",
    "                data_raw_string.append(raw_string)\n",
    "\n",
    "\n",
    "            case (\".\",\"maybe_S_key\"):\n",
    "                temp_string = \"\"\n",
    "                state = \"S_key\"\n",
    "\n",
    "            case ('\"',\"S_key\"):\n",
    "                current_s_key = temp_string\n",
    "                temp_string = \"\"\n",
    "                state = \"S_value_with_quote\"\n",
    "            case (\"0\"|\"1\"|\"2\"|\"3\"|\"4\"|\"5\"|\"6\"|\"7\"|\"8\"|\"9\",\"S_key\"):\n",
    "                current_s_key = temp_string\n",
    "                temp_string=char\n",
    "                state = \"S_value\"\n",
    "            case (\" \",\"S_key\"):\n",
    "                current_s_key = temp_string\n",
    "                temp_string = \"\"\n",
    "                state = \"Unknown\"\n",
    "\n",
    "            case (\" \"|\"\\t\"|\"\\n\",\"S_value\"):\n",
    "                current_s_value.append(temp_string)\n",
    "                temp_string = \"\"\n",
    "                state = \"Unknown\"\n",
    "\n",
    "            case ('\"',\"S_value_with_quote\"):\n",
    "                current_s_value.append(temp_string)\n",
    "                temp_string = \"\"\n",
    "                state = \"Unknown\"\n",
    "\n",
    "            case ('\"',\"Unknown\"):\n",
    "                temp_string = \"\"\n",
    "                state = \"S_value_with_quote\"\n",
    "            case _:\n",
    "                raw_string += char\n",
    "        temp_string += char\n",
    "\n",
    "    return (data, data_raw_string)\n",
    "\n",
    "parser1(open(r\"D:\\Program Files\\MO2\\Game\\DarkestDunGeon\\mods\\The Abigail Williams Class\\heroes\\AbigailWilliams\\AbigailWilliams.info.darkest\").read())"
   ]
  },
  {
   "cell_type": "code",
   "execution_count": 6,
   "metadata": {},
   "outputs": [
    {
     "data": {
      "text/plain": [
       "'//'"
      ]
     },
     "execution_count": 6,
     "metadata": {},
     "output_type": "execute_result"
    }
   ],
   "source": [
    "\"123//\"[-2:]"
   ]
  }
 ],
 "metadata": {
  "kernelspec": {
   "display_name": "home",
   "language": "python",
   "name": "python3"
  },
  "language_info": {
   "codemirror_mode": {
    "name": "ipython",
    "version": 3
   },
   "file_extension": ".py",
   "mimetype": "text/x-python",
   "name": "python",
   "nbconvert_exporter": "python",
   "pygments_lexer": "ipython3",
   "version": "3.12.0"
  }
 },
 "nbformat": 4,
 "nbformat_minor": 2
}
