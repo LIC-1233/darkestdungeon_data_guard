{
 "cells": [
  {
   "cell_type": "code",
   "execution_count": 1,
   "metadata": {},
   "outputs": [],
   "source": [
    "from DarkestDungeonClass.manager import mod_manager\n",
    "\n",
    "Mmanager = mod_manager(ordered_mod_paths=[r\"D:\\Program Files\\MO2\\Game\\DarkestDunGeon\\mods\\The Abigail Williams Class\"])"
   ]
  },
  {
   "cell_type": "code",
   "execution_count": 4,
   "metadata": {},
   "outputs": [
    {
     "data": {
      "text/plain": [
       "heroes_info_file(resistances=None, crit=None, weapon=None, armour=None, combat_skill=[combat_skill(id='AbigailWilliams_Skill_1', level=0, type=None, atk=None, dmg=None, crit=None, defence=None, move=None, starting_cooldown=None, per_battle_limit=None, per_turn_limit=None, is_continue_turn=None, launch='34', target='~@1234', self_target_valid=None, extra_targets_chance=None, extra_targets_count=None, is_crit_valid=None, effect=None, valid_modes=['AW_Girl_True', 'AW_Dreamland'], ignore_stealth=None, ignore_guard=None, can_miss=None, can_be_riposted=None, ignore_protection=None, required_performer_hp_range=None, rank_damage_modifiers=None, heal=None, can_crit_heal=None, generation_guaranteed=None, is_user_selected_targets=None, is_knowledgeable=None, is_monster_rerank_valid_on_attack=None, is_monster_rerank_valid_on_friendly_presentation_end=None, is_monster_rerank_valid_on_friendly_post_result=None, is_stall_invalidating=None, refresh_after_each_wave=None, damage_heal_base_class_ids=None, ignore_deathsdoor=None, AW_Dreamland_effects=['AW_Skill_1_Dreamland_Tooltip5'])], riposte_skill=None, combat_move_skill=None, tag=None, mode=None, overstressed_modifier=None, quirk_modifier=None, activity_modifier=None, incompatible_party_member=None, deaths_door=None, hp_reaction=None, death_reaction=None, controlled=None, id_index=None, extra_battle_loot=None, extra_curio_loot=None, skill_selection=None, generation=None)"
      ]
     },
     "execution_count": 4,
     "metadata": {},
     "output_type": "execute_result"
    }
   ],
   "source": [
    "Mmanager.hero_id_map[\"AbigailWilliams\"][0][1].combat_skill[0].effect"
   ]
  }
 ],
 "metadata": {
  "kernelspec": {
   "display_name": "home",
   "language": "python",
   "name": "python3"
  },
  "language_info": {
   "codemirror_mode": {
    "name": "ipython",
    "version": 3
   },
   "file_extension": ".py",
   "mimetype": "text/x-python",
   "name": "python",
   "nbconvert_exporter": "python",
   "pygments_lexer": "ipython3",
   "version": "3.12.0"
  }
 },
 "nbformat": 4,
 "nbformat_minor": 2
}
